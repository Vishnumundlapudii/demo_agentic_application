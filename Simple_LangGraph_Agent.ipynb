{
 "cells": [
  {
   "cell_type": "markdown",
   "metadata": {},
   "source": [
    "# Simple LangGraph Agent: From LLMs to Agents\n",
    "\n",
    "## 1. LLMs vs Agents: Key Differences 🤔\n",
    "\n",
    "### Traditional LLMs\n",
    "- **Input → Output**: Simple text-in, text-out pattern\n",
    "- **Static**: No ability to interact with external systems\n",
    "- **Single Turn**: One response per query\n",
    "- **Limited Context**: Only what's in the prompt\n",
    "- **No Tools**: Cannot perform actual calculations or actions\n",
    "\n",
    "### AI Agents\n",
    "- **Interactive**: Can use tools and external APIs\n",
    "- **Multi-step**: Break down complex tasks into steps\n",
    "- **Memory**: Maintain state across interactions\n",
    "- **Planning**: Can reason about next actions\n",
    "- **Error Handling**: Can retry and recover from failures\n",
    "- **Tool Usage**: Can perform real actions (calculations, API calls, etc.)\n",
    "\n",
    "### Visual Comparison\n",
    "\n",
    "```\n",
    "LLM Pattern:\n",
    "User: \"What is 15 × 23?\"\n",
    "LLM: \"15 × 23 equals 345\" (might be wrong!)\n",
    "\n",
    "Agent Pattern:\n",
    "User: \"What is 15 × 23?\"\n",
    "Agent: 1. Detects math needed\n",
    "        2. Uses calculator tool  \n",
    "        3. Returns: \"The answer is: 345\" (always correct!)\n",
    "```\n",
    "\n",
    "## This Demo Shows:\n",
    "- **Chat Mode**: \"How are you?\" → Normal conversation\n",
    "- **Tool Mode**: \"What is 5 + 3?\" → Uses calculator tool\n",
    "- **Smart Routing**: Automatically detects what type of response needed"
   ]
  },
  {
   "cell_type": "code",
   "metadata": {},
   "outputs": [],
   "source": "# Install required packages\n!pip install langgraph langchain requests python-dotenv"
  },
  {
   "cell_type": "code",
   "metadata": {},
   "outputs": [],
   "source": "# Simple LLM Setup\nfrom langgraph.graph import StateGraph, END\nfrom langchain.tools import tool\nfrom typing import Dict, Any\nimport os\nimport requests\nfrom dotenv import load_dotenv\n\nload_dotenv()\n\n# Simple E2E LLM Class\nclass SimpleLLM:\n    def __init__(self):\n        self.api_key = os.getenv(\"E2E_API_KEY\")\n        self.base_url = os.getenv(\"E2E_BASE_URL\") + \"chat/completions\"\n        \n    def call(self, prompt: str) -> str:\n        headers = {\"Authorization\": f\"Bearer {self.api_key}\", \"Content-Type\": \"application/json\"}\n        payload = {\"messages\": [{\"role\": \"user\", \"content\": prompt}], \"max_tokens\": 200}\n        \n        try:\n            response = requests.post(self.base_url, headers=headers, json=payload, timeout=10)\n            if response.status_code == 200:\n                return response.json()[\"choices\"][0][\"message\"][\"content\"]\n            else:\n                return \"Sorry, I'm having trouble right now.\"\n        except:\n            return \"Sorry, I'm having trouble right now.\"\n\nllm = SimpleLLM()\nprint(\"✅ Simple LLM ready\")"
  },
  {
   "cell_type": "code",
   "metadata": {},
   "outputs": [],
   "source": "# Simple Calculator Tool\n@tool\ndef calculator(expression: str) -> str:\n    \"\"\"Calculate mathematical expressions like 5+3, 10*2, etc.\"\"\"\n    try:\n        result = eval(expression)\n        return str(result)\n    except:\n        return \"Error in calculation\"\n\nprint(\"🧮 Calculator tool created!\")\nprint(\"🎯 This is what makes it an AGENT - it can use TOOLS!\")"
  },
  {
   "cell_type": "code",
   "metadata": {},
   "outputs": [],
   "source": "# Simple Agent Functions\nimport re\n\ndef create_state(user_input: str) -> Dict[str, Any]:\n    return {\"user_input\": user_input, \"needs_math\": False, \"result\": \"\"}\n\ndef check_math_need(state: Dict) -> Dict:\n    # Simple check: if it has numbers and math words, it's math\n    text = state[\"user_input\"].lower()\n    has_numbers = bool(re.search(r'\\d', text))\n    has_math_words = any(word in text for word in [\"calculate\", \"what is\", \"+\", \"-\", \"*\", \"/\", \"plus\", \"minus\", \"times\", \"divided\"])\n    \n    state[\"needs_math\"] = has_numbers and has_math_words\n    return state\n\ndef do_math(state: Dict) -> Dict:\n    # Extract math expression better\n    text = state[\"user_input\"]\n    \n    # Try different patterns to find math\n    patterns = [\n        r'what is\\s+([0-9+\\-*/\\s]+)',  # \"what is 5 + 3\"\n        r'calculate\\s+([0-9+\\-*/\\s]+)',  # \"calculate 10 * 2\"\n        r'([0-9]+\\s*[+\\-*/]\\s*[0-9]+)',  # \"5 + 3\" anywhere\n    ]\n    \n    expression = None\n    for pattern in patterns:\n        match = re.search(pattern, text, re.IGNORECASE)\n        if match:\n            expression = match.group(1).strip().replace(\" \", \"\")\n            break\n    \n    if expression:\n        result = calculator.invoke({\"expression\": expression})\n        state[\"result\"] = f\"🔧 Calculator: {expression} = {result}\"\n    else:\n        state[\"result\"] = \"Could not find math expression\"\n    \n    return state\n\ndef chat_response(state: Dict) -> Dict:\n    # Use LLM for general chat\n    response = llm.call(f\"Please respond to: {state['user_input']}\")\n    state[\"result\"] = f\"💬 Chat: {response}\"\n    return state\n\ndef route_request(state: Dict) -> str:\n    return \"do_math\" if state[\"needs_math\"] else \"chat_response\"\n\nprint(\"✅ Simple agent functions ready\")"
  },
  {
   "cell_type": "code",
   "metadata": {},
   "outputs": [],
   "source": "# Create the Agent\nworkflow = StateGraph(dict)\n\n# Add nodes\nworkflow.add_node(\"check_math\", check_math_need)\nworkflow.add_node(\"do_math\", do_math)\nworkflow.add_node(\"chat_response\", chat_response)\n\n# Set entry point\nworkflow.set_entry_point(\"check_math\")\n\n# Add routing\nworkflow.add_conditional_edges(\n    \"check_math\",\n    route_request,\n    {\n        \"do_math\": \"do_math\",\n        \"chat_response\": \"chat_response\"\n    }\n)\n\n# End points\nworkflow.add_edge(\"do_math\", END)\nworkflow.add_edge(\"chat_response\", END)\n\n# Compile the agent\nagent = workflow.compile()\n\nprint(\"✅ Simple LangGraph Agent created!\")\nprint(\"🔄 Flow: Input → Check Math → Route → Tool/Chat → Result\")"
  },
  {
   "cell_type": "code",
   "metadata": {},
   "outputs": [],
   "source": "# Test Examples\ndef test_agent(question: str):\n    print(f\"👤 User: {question}\")\n    state = create_state(question)\n    result = agent.invoke(state)\n    print(f\"🤖 {result['result']}\")\n    print(\"-\" * 40)\n\nprint(\"🧮 MATH EXAMPLES:\")\ntest_agent(\"What is 5 + 3?\")\ntest_agent(\"Calculate 10 * 2\")\ntest_agent(\"What is 15 - 7?\")\n\nprint(\"\\n💬 CHAT EXAMPLES:\")\ntest_agent(\"Hello!\")\ntest_agent(\"How are you?\")\ntest_agent(\"Who are you?\")"
  },
  {
   "cell_type": "code",
   "metadata": {},
   "outputs": [],
   "source": "# Interactive Demo\nprint(\"🎮 Simple Agent Demo\")\nprint(\"Math: 'What is 5 + 3?' | Chat: 'Hello!'\")\nprint(\"Type 'quit' to exit\")\n\nwhile True:\n    user_input = input(\"\\n👤 You: \")\n    if user_input.lower() == 'quit':\n        break\n    \n    state = create_state(user_input)\n    result = agent.invoke(state)\n    print(f\"🤖 {result['result']}\")"
  },
  {
   "cell_type": "code",
   "metadata": {},
   "outputs": [],
   "source": "# Summary\nprint(\"✅ Simple Agent Complete!\")\nprint()\nprint(\"🔄 How it works:\")\nprint(\"1. Text input → LLM response\")\nprint(\"2. Math input → Calculator tool\") \nprint()\nprint(\"📝 Examples:\")\nprint(\"• 'Hello' → LLM generates chat response\")\nprint(\"• 'What is 5+3?' → Uses calculator tool = 8\")"
  },
  {
   "cell_type": "markdown",
   "metadata": {},
   "source": [
    "## How It Works - The Agent Flow\n",
    "\n",
    "### 🔍 Step-by-Step Execution:\n",
    "\n",
    "1. **Input Analysis**: Checks if the question needs math calculation\n",
    "2. **Smart Routing**: Routes to either math calculator or chat response  \n",
    "3. **Processing**: \n",
    "   - **Math Path**: Uses calculator tool\n",
    "   - **Chat Path**: Uses simple responses or E2E Networks API\n",
    "4. **Response**: Returns the result\n",
    "\n",
    "### 🎯 Key Agent Capabilities Demonstrated:\n",
    "\n",
    "✅ **Tool Usage** - Can perform actual calculations  \n",
    "✅ **Decision Making** - Routes based on input type  \n",
    "✅ **State Management** - Tracks conversation context  \n",
    "✅ **Multi-modal Response** - Handles both chat and computation  \n",
    "\n",
    "### 📈 Why This Matters:\n",
    "\n",
    "- **LLM**: \"What's 15 * 23?\" → \"15 * 23 = 345\" (might be wrong!)\n",
    "- **Agent**: \"What's 15 * 23?\" → Uses calculator → \"The answer is: 345\" (always correct!)\n",
    "\n",
    "**Simple and Clean!** 🎯"
   ]
  }
 ],
 "metadata": {
  "kernelspec": {
   "display_name": "Python 3",
   "language": "python",
   "name": "python3"
  },
  "language_info": {
   "codemirror_mode": {
    "name": "ipython",
    "version": 3
   },
   "file_extension": ".py",
   "mimetype": "text/x-python",
   "name": "python",
   "nbconvert_exporter": "python",
   "pygments_lexer": "ipython3",
   "version": "3.8.0"
  }
 },
 "nbformat": 4,
 "nbformat_minor": 4
}